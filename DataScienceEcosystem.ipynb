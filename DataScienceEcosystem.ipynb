{
 "cells": [
  {
   "cell_type": "markdown",
   "id": "d8e7c628-c0ac-4703-b720-1442446eeff2",
   "metadata": {},
   "source": [
    "# Data Science Tools and Ecosystems"
   ]
  },
  {
   "cell_type": "markdown",
   "id": "28294c35-abe0-42b3-afa6-b8dcb25c42bb",
   "metadata": {},
   "source": [
    "In this notebook, Data Science Tools and Ecosystem are summarized."
   ]
  },
  {
   "cell_type": "markdown",
   "id": "87b2ed12-d223-4a92-bc4d-8e243aa9915e",
   "metadata": {},
   "source": [
    "Some of the popular languages that Data Scientists use are:\n",
    "1. Python\n",
    "2. R\n",
    "3. SQL"
   ]
  },
  {
   "cell_type": "markdown",
   "id": "ddfb4a76-74ec-4d61-8785-69959091447e",
   "metadata": {},
   "source": [
    "Some of the commonly used libraries used by Data Scientists include:\n",
    "1. Pandas\n",
    "2. NumPy\n",
    "3. Matplotlib"
   ]
  },
  {
   "cell_type": "markdown",
   "id": "4bb3c906-96ed-4a60-a7b3-fba489cd0a3a",
   "metadata": {},
   "source": [
    "| Data Science Tools         |\n",
    "| -------------------------- |\n",
    "| Jupyter notebook           |\n",
    "| Rstudio.                   |\n",
    "| VS code with Python plugin |"
   ]
  },
  {
   "cell_type": "markdown",
   "id": "cf173ff6-1312-41b3-bb59-35a71a639b1f",
   "metadata": {},
   "source": [
    "### Below are a few examples of evaluating arithmetic expressions in Python"
   ]
  },
  {
   "cell_type": "code",
   "execution_count": 2,
   "id": "b032436f-50e8-446f-9793-590e79e55053",
   "metadata": {
    "tags": []
   },
   "outputs": [
    {
     "name": "stdout",
     "output_type": "stream",
     "text": [
      "result: 17\n"
     ]
    }
   ],
   "source": [
    "# This a simple arithmetic expression to mutiply then add integers\n",
    "result = (3 * 4) + 5\n",
    "print (\"result:\", result)"
   ]
  },
  {
   "cell_type": "code",
   "execution_count": 4,
   "id": "5ad2962c-354f-479a-a8db-e14dd0bba135",
   "metadata": {
    "tags": []
   },
   "outputs": [
    {
     "name": "stdout",
     "output_type": "stream",
     "text": [
      "200 minutes is equal to 3.3333333333333335 hours\n"
     ]
    }
   ],
   "source": [
    "# This will convert 200 minutes to hours by diving by 60\n",
    "minutes = 200\n",
    "hours = minutes/ 60\n",
    "print(\"200 minutes is equal to\", hours, \"hours\")"
   ]
  },
  {
   "cell_type": "markdown",
   "id": "14ac7674-ca1e-4550-b356-099c44dd3e45",
   "metadata": {},
   "source": [
    "**Objectives:**\n",
    "- List popular languages for data science\n",
    "- Summarize data science tools and ecosystem\n",
    "- Convert minutes to hours\n"
   ]
  },
  {
   "cell_type": "markdown",
   "id": "e487955e-e513-48e1-ad49-618e5250ea5f",
   "metadata": {},
   "source": [
    "## Author\n",
    "Manik Sharma"
   ]
  },
  {
   "cell_type": "code",
   "execution_count": null,
   "id": "4d12da36-a0d3-4493-9b98-c6f3eb5cac3f",
   "metadata": {},
   "outputs": [],
   "source": []
  }
 ],
 "metadata": {
  "kernelspec": {
   "display_name": "Python",
   "language": "python",
   "name": "conda-env-python-py"
  },
  "language_info": {
   "codemirror_mode": {
    "name": "ipython",
    "version": 3
   },
   "file_extension": ".py",
   "mimetype": "text/x-python",
   "name": "python",
   "nbconvert_exporter": "python",
   "pygments_lexer": "ipython3",
   "version": "3.7.12"
  }
 },
 "nbformat": 4,
 "nbformat_minor": 5
}
